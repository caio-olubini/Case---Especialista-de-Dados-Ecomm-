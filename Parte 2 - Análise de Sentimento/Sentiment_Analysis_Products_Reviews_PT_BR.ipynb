{
  "nbformat": 4,
  "nbformat_minor": 0,
  "metadata": {
    "colab": {
      "provenance": [],
      "collapsed_sections": [
        "5o2AggW1nxnw",
        "Pn10YBdpAmoq",
        "308fe0fd",
        "1ee780f5",
        "PNpQaMSErQVW",
        "p3CrGKMhrcHR",
        "F_8vPGVd3o2D",
        "X3nXhwWKELRf"
      ],
      "authorship_tag": "ABX9TyMcnJ/y2Out/78idq4qUtVD",
      "include_colab_link": true
    },
    "kernelspec": {
      "name": "python3",
      "display_name": "Python 3"
    },
    "language_info": {
      "name": "python"
    }
  },
  "cells": [
    {
      "cell_type": "markdown",
      "metadata": {
        "id": "view-in-github",
        "colab_type": "text"
      },
      "source": [
        "<a href=\"https://colab.research.google.com/github/caio-olubini/Case---Especialista-de-Dados-Ecomm-/blob/main/Parte%202%20-%20An%C3%A1lise%20de%20Sentimento/Sentiment_Analysis_Products_Reviews_PT_BR.ipynb\" target=\"_parent\"><img src=\"https://colab.research.google.com/assets/colab-badge.svg\" alt=\"Open In Colab\"/></a>"
      ]
    },
    {
      "cell_type": "markdown",
      "source": [
        "# Carregando pacotes"
      ],
      "metadata": {
        "id": "gB_Coc6ElwAd"
      }
    },
    {
      "cell_type": "code",
      "execution_count": null,
      "metadata": {
        "id": "WVs7oNKrUCXp"
      },
      "outputs": [],
      "source": [
        "import pandas as pd\n",
        "import time\n",
        "from transformers import pipeline\n",
        "import matplotlib.pyplot as plt\n",
        "import seaborn as sns\n",
        "from wordcloud import WordCloud\n",
        "import re\n",
        "try:\n",
        "  from unidecode import unidecode\n",
        "except ModuleNotFoundError:\n",
        "  !pip install unidecode\n",
        "  from unidecode import unidecode\n",
        "from nltk.corpus import stopwords\n",
        "import nltk\n",
        "from scipy.stats import chi2_contingency"
      ]
    },
    {
      "cell_type": "markdown",
      "source": [
        "# Lendo datasets"
      ],
      "metadata": {
        "id": "lt2mpiXBlzim"
      }
    },
    {
      "cell_type": "code",
      "source": [
        "df_reviews = pd.read_csv('reviews.csv')\n",
        "df_reviews.dropna(subset=['MSG_AVALIACAO'], inplace=True)\n",
        "df_reviews['DT_HR_CRIACAO'] = pd.to_datetime(df_reviews['DT_HR_CRIACAO'], format='mixed')\n",
        "df_reviews['COD_PEDIDO'] = df_reviews['COD_PEDIDO'].astype('Int64')"
      ],
      "metadata": {
        "id": "mvwMZ5T-lvcq"
      },
      "execution_count": null,
      "outputs": []
    },
    {
      "cell_type": "code",
      "source": [
        "df_sales = pd.read_csv('vendas.csv')\n",
        "df_sales['DT_VENDA'] = pd.to_datetime(df_sales['DT_VENDA'])"
      ],
      "metadata": {
        "id": "cvpJeOYttPWL"
      },
      "execution_count": null,
      "outputs": []
    },
    {
      "cell_type": "markdown",
      "source": [
        "# Análise exploratória"
      ],
      "metadata": {
        "id": "m07R-gDPntig"
      }
    },
    {
      "cell_type": "markdown",
      "source": [
        "## Reviews"
      ],
      "metadata": {
        "id": "PaZKrPKrny6T"
      }
    },
    {
      "cell_type": "code",
      "source": [
        "df_reviews.sample(5)"
      ],
      "metadata": {
        "id": "jhZUOhZImSg5"
      },
      "execution_count": null,
      "outputs": []
    },
    {
      "cell_type": "code",
      "source": [
        "# Extract month from the 'DT_HR_CRIACAO' column\n",
        "df_reviews['month'] = df_reviews['DT_HR_CRIACAO'].dt.to_period('M')\n",
        "\n",
        "# Group by month and count distinct COD_AVALIACAO\n",
        "reviews_per_month = df_reviews.groupby('month')['COD_AVALIACAO'].nunique()\n",
        "\n",
        "# Create the plot\n",
        "plt.figure(figsize=(8, 3))\n",
        "ax = sns.barplot(x=reviews_per_month.index.astype(str), y=reviews_per_month.values)\n",
        "plt.title('Reviews por mês', fontsize=16)\n",
        "plt.xlabel('Mês', fontsize=12)\n",
        "plt.ylabel('Reviews', fontsize=12)\n",
        "plt.xticks(rotation=0)\n",
        "\n",
        "sns.despine()\n",
        "plt.tight_layout()\n",
        "\n",
        "plt.show()"
      ],
      "metadata": {
        "id": "9BHQ6wUmrN2W"
      },
      "execution_count": null,
      "outputs": []
    },
    {
      "cell_type": "markdown",
      "source": [
        "### Produtos"
      ],
      "metadata": {
        "id": "YbNIkIvzt_ef"
      }
    },
    {
      "cell_type": "code",
      "source": [
        "df_reviews['COD_PRODUTO'].nunique()"
      ],
      "metadata": {
        "id": "P9nXKnSbt9qD"
      },
      "execution_count": null,
      "outputs": []
    },
    {
      "cell_type": "code",
      "source": [
        "df_reviews[['COD_PRODUTO', 'DES_PRODUTO']].value_counts(normalize=True)"
      ],
      "metadata": {
        "id": "4Lg2GNAhuO-Z"
      },
      "execution_count": null,
      "outputs": []
    },
    {
      "cell_type": "markdown",
      "source": [
        "O dataset contém reviews de apenas 3 produtos\n",
        "\n",
        "Aparentemente temos uma atribuição errada da descrição **Cuide-se Bem Doçura na Pessegura o Boticário - Creme Hidratante Depilatório Corporal 150ml** para o código 333"
      ],
      "metadata": {
        "id": "dnXgUDYFuom0"
      }
    },
    {
      "cell_type": "markdown",
      "source": [
        "### Mensagem de avaliação"
      ],
      "metadata": {
        "id": "1MZzLhpQu78D"
      }
    },
    {
      "cell_type": "code",
      "source": [
        "df_reviews['MSG_AVALIACAO'].nunique()"
      ],
      "metadata": {
        "id": "0qIvSewMu-AP"
      },
      "execution_count": null,
      "outputs": []
    },
    {
      "cell_type": "code",
      "source": [
        "df_reviews['MSG_AVALIACAO'].value_counts()[:10]"
      ],
      "metadata": {
        "id": "u5z6bUD2vH2o"
      },
      "execution_count": null,
      "outputs": []
    },
    {
      "cell_type": "code",
      "source": [
        "# Download stopwords\n",
        "nltk.download('stopwords')\n",
        "stop_words = set(stopwords.words('portuguese'))\n",
        "\n",
        "# Function to preprocess text\n",
        "def preprocess_text(text):\n",
        "    # Lowercase\n",
        "    text = text.lower()\n",
        "    # Remove punctuation\n",
        "    text = re.sub(r'[^\\w\\s]', '', text)\n",
        "    # Normalize special characters\n",
        "    text = unidecode(text)\n",
        "    # Remove stopwords\n",
        "    text = \" \".join(word for word in text.split() if word not in stop_words)\n",
        "    return text\n",
        "\n",
        "# Combine all reviews into a single string and preprocess\n",
        "text = \" \".join(preprocess_text(review) for review in df_reviews['MSG_AVALIACAO'])\n",
        "\n",
        "# Generate the word cloud\n",
        "wordcloud = WordCloud(width=800, height=400, background_color='white').generate(text)\n",
        "\n",
        "# Display the generated image:\n",
        "plt.figure(figsize=(10, 5))\n",
        "plt.imshow(wordcloud, interpolation='bilinear')\n",
        "plt.axis(\"off\")\n",
        "plt.show()"
      ],
      "metadata": {
        "id": "4s-PVfxyuiwD"
      },
      "execution_count": null,
      "outputs": []
    },
    {
      "cell_type": "markdown",
      "source": [
        "Notamos que temos alguns reviews \"repetidos\" e mais comuns, majoriatariamente relacionados a mensagens curtas e positivas como \"muito bom\" ou \"amei\".\n",
        "\n",
        "Analisando nossa nuvem de palavras notamos que a maioria dos comentários está relacionada a caracteristicas inerentes a categoria de perfumaria (cheiro, frangrancia,fixação) associadas a palavras positivas (maravilhoso, bom, perfeito)"
      ],
      "metadata": {
        "id": "1m-OSFsNxQt_"
      }
    },
    {
      "cell_type": "markdown",
      "source": [
        "### Flag presente"
      ],
      "metadata": {
        "id": "OGKpWxcByHAk"
      }
    },
    {
      "cell_type": "code",
      "source": [
        "df_reviews['FLG_PRESENTE'].value_counts(normalize = True)"
      ],
      "metadata": {
        "id": "YVYyUObqyL4I"
      },
      "execution_count": null,
      "outputs": []
    },
    {
      "cell_type": "code",
      "source": [
        "df_reviews.groupby('COD_PRODUTO')['FLG_PRESENTE'].value_counts(normalize = True)"
      ],
      "metadata": {
        "id": "VcGFm-IHyU8B"
      },
      "execution_count": null,
      "outputs": []
    },
    {
      "cell_type": "markdown",
      "source": [
        "A maior parte dos comentários é referente a itens não presenteados.\n",
        "\n",
        "O percentual presenteado do item 333 é consideravelmente menor dos que os demais, o que é esperado já que se trata de um hidratante."
      ],
      "metadata": {
        "id": "nz1ivXp6yvn7"
      }
    },
    {
      "cell_type": "markdown",
      "source": [
        "### Estado (UF)"
      ],
      "metadata": {
        "id": "zea-0bg_txsF"
      }
    },
    {
      "cell_type": "code",
      "source": [
        "df_reviews['ESTADO_AVALIADOR'].nunique()"
      ],
      "metadata": {
        "id": "-zJDhGxtt1kQ"
      },
      "execution_count": null,
      "outputs": []
    },
    {
      "cell_type": "code",
      "source": [
        "df_reviews['ESTADO_AVALIADOR'].value_counts(normalize=True)"
      ],
      "metadata": {
        "id": "WB_cdPlltDB5"
      },
      "execution_count": null,
      "outputs": []
    },
    {
      "cell_type": "markdown",
      "source": [
        "### Duplicicades"
      ],
      "metadata": {
        "id": "KdWH7K9Ps460"
      }
    },
    {
      "cell_type": "code",
      "source": [
        "df_reviews[df_reviews.drop(columns = ['DT_HR_CRIACAO']).duplicated(keep=False)]"
      ],
      "metadata": {
        "id": "wbm3DjyXmhOg"
      },
      "execution_count": null,
      "outputs": []
    },
    {
      "cell_type": "markdown",
      "source": [
        "**802 reviews duplicados** encontrados na base, provavelmente resultado de problemas no processo de coleta."
      ],
      "metadata": {
        "id": "yEi5_eYToFLz"
      }
    },
    {
      "cell_type": "markdown",
      "source": [
        "### Valores faltantes"
      ],
      "metadata": {
        "id": "rCNbxWbCs8W4"
      }
    },
    {
      "cell_type": "code",
      "source": [
        "df_reviews.isna().sum()"
      ],
      "metadata": {
        "id": "kFPjrs9-owi5"
      },
      "execution_count": null,
      "outputs": []
    },
    {
      "cell_type": "code",
      "source": [
        "# Extract month from the 'DT_HR_CRIACAO' column\n",
        "df_reviews['month'] = df_reviews['DT_HR_CRIACAO'].dt.to_period('M')\n",
        "\n",
        "# Calculate missing and total values per month\n",
        "missing_per_month = df_reviews[df_reviews['COD_PEDIDO'].isna()].groupby('month').size()\n",
        "total_per_month = df_reviews.groupby('month').size()\n",
        "\n",
        "# Calculate the percentage of missing values\n",
        "percentage_missing = (missing_per_month / total_per_month) * 100\n",
        "\n",
        "# Plot the results\n",
        "plt.figure(figsize=(8, 3))\n",
        "ax = percentage_missing.plot(kind='bar')\n",
        "plt.title('% Valores faltantes COD_PEDIDO X Mês', fontsize=16)\n",
        "plt.xlabel('Mês', fontsize=12)\n",
        "plt.ylabel('Valores Faltantes (%)', fontsize=12)\n",
        "plt.xticks(rotation=0)\n",
        "\n",
        "# Remove top and right spines\n",
        "sns.despine()\n",
        "\n",
        "plt.ylim(0, 70)"
      ],
      "metadata": {
        "id": "0THmgcqsp1QJ"
      },
      "execution_count": null,
      "outputs": []
    },
    {
      "cell_type": "markdown",
      "source": [
        "**Valores faltantes:**\n",
        "\n",
        "* COD_PEDIDO - aproximadamente metade dos registros não possuem o campo preenchido, o que deve afetar o cruzando com a base de vendas. O problema é um pouco mais acentuado no mês de Abril.\n",
        "\n",
        "* ESTADO_AVALIADOR - 656 valores faltantes\n",
        "\n",
        "* FLG_PRESENTE - 70\n",
        "\n",
        "Pela restriçã de tempo e por entender que eles não necessariamente afetam o objetivo principal da análise, por hora não trataremos valores faltantes."
      ],
      "metadata": {
        "id": "BfMIuIIBpAT7"
      }
    },
    {
      "cell_type": "code",
      "source": [
        "df_sales = pd.read_csv('vendas.csv')\n",
        "df_sales"
      ],
      "metadata": {
        "id": "0kVyYlyGl8OC"
      },
      "execution_count": null,
      "outputs": []
    },
    {
      "cell_type": "code",
      "source": [
        "df_sales['COD_PEDIDO'].nunique()"
      ],
      "metadata": {
        "id": "rzwIM7EOmFVK"
      },
      "execution_count": null,
      "outputs": []
    },
    {
      "cell_type": "markdown",
      "source": [
        "## Vendas"
      ],
      "metadata": {
        "id": "gAenpoXi0XL3"
      }
    },
    {
      "cell_type": "code",
      "source": [
        "df_sales.sample(5)"
      ],
      "metadata": {
        "id": "X3Zr2eWn0bkx"
      },
      "execution_count": null,
      "outputs": []
    },
    {
      "cell_type": "code",
      "source": [
        "df_sales[['DT_VENDA', 'VLR_RECEITA_CAPTADA']].describe()"
      ],
      "metadata": {
        "id": "spN_X-Z73nva"
      },
      "execution_count": null,
      "outputs": []
    },
    {
      "cell_type": "code",
      "source": [
        "# Extract month from the 'DT_VENDA' column\n",
        "df_sales['month'] = pd.to_datetime(df_sales['DT_VENDA']).dt.to_period('M')\n",
        "\n",
        "# Group by month and count distinct COD_PEDIDO\n",
        "sales_per_month = df_sales.groupby('month')['COD_PEDIDO'].nunique()\n",
        "\n",
        "# Create the plot\n",
        "plt.figure(figsize=(8, 3))\n",
        "ax = sns.barplot(x=sales_per_month.index.astype(str), y=sales_per_month.values)\n",
        "plt.title('Pedidos por Mês', fontsize=16)\n",
        "plt.xlabel('Mês', fontsize=12)\n",
        "plt.ylabel('Pedidos', fontsize=12)\n",
        "plt.xticks(rotation=0)\n",
        "\n",
        "# Remove top and right spines\n",
        "sns.despine()\n",
        "\n",
        "\n",
        "plt.show()"
      ],
      "metadata": {
        "id": "sy96GiAc1w5M"
      },
      "execution_count": null,
      "outputs": []
    },
    {
      "cell_type": "markdown",
      "source": [
        "### Canal de venda (APP, SITE, MKTP)"
      ],
      "metadata": {
        "id": "jiG2O8Cn4Boe"
      }
    },
    {
      "cell_type": "code",
      "source": [
        "df_sales['DES_CANAL_VENDA_FINAL'].value_counts(normalize=True)"
      ],
      "metadata": {
        "id": "7P0EhHTy4JNc"
      },
      "execution_count": null,
      "outputs": []
    },
    {
      "cell_type": "code",
      "source": [
        "df_sales.groupby('DES_CANAL_VENDA_FINAL')['VLR_RECEITA_CAPTADA'].mean()"
      ],
      "metadata": {
        "id": "prqKD5Qc4WKq"
      },
      "execution_count": null,
      "outputs": []
    },
    {
      "cell_type": "code",
      "source": [
        "# Calculate the percentage of each COD_MATERIAL within each DES_CANAL_VENDA_FINAL\n",
        "share_by_channel = df_sales.groupby(['DES_CANAL_VENDA_FINAL', 'COD_MATERIAL']).size().unstack(fill_value=0)\n",
        "share_by_channel = share_by_channel.apply(lambda x: x / x.sum(), axis=1)\n",
        "\n",
        "# Plot the results as a stacked bar chart\n",
        "share_by_channel.plot(kind='bar', stacked=True, figsize=(10, 4))\n",
        "\n",
        "plt.title('Share Material Canal', fontsize=16)\n",
        "plt.xlabel('Canal', fontsize=12)\n",
        "plt.ylabel('Share', fontsize=12)\n",
        "plt.xticks(rotation=0)\n",
        "plt.legend(title='COD_MATERIAL', bbox_to_anchor=(1.05, 1), loc='upper left')\n",
        "sns.despine()\n",
        "plt.tight_layout()\n",
        "plt.show()"
      ],
      "metadata": {
        "id": "F4kX-dvv93JX"
      },
      "execution_count": null,
      "outputs": []
    },
    {
      "cell_type": "markdown",
      "source": [
        "O dataset possui 4 canais de venda:\n",
        "\n",
        "App, Site, Mktp In, Mktp Out\n",
        "\n",
        "Tendo app a maior representação de pedidos e Mktp Out o melhor ticket médio."
      ],
      "metadata": {
        "id": "BD-q9YUp4l-v"
      }
    },
    {
      "cell_type": "markdown",
      "source": [
        "### Produtos"
      ],
      "metadata": {
        "id": "ZcC8ZYGl4-zV"
      }
    },
    {
      "cell_type": "code",
      "source": [
        "df_sales['COD_MATERIAL'].nunique()"
      ],
      "metadata": {
        "id": "McSFODpQ5DpU"
      },
      "execution_count": null,
      "outputs": []
    },
    {
      "cell_type": "code",
      "source": [
        "df_sales[['COD_MATERIAL', 'DES_MATERIAL']].value_counts(normalize=True)"
      ],
      "metadata": {
        "id": "8mgb-4ub5IzE"
      },
      "execution_count": null,
      "outputs": []
    },
    {
      "cell_type": "code",
      "source": [
        "df_sales.groupby('COD_MATERIAL')['VLR_RECEITA_CAPTADA'].describe()"
      ],
      "metadata": {
        "id": "oTsMixpe942V"
      },
      "execution_count": null,
      "outputs": []
    },
    {
      "cell_type": "code",
      "source": [
        "plt.figure(figsize=(12, 4))\n",
        "sns.boxplot(x='COD_MATERIAL', y='VLR_RECEITA_CAPTADA', data=df_sales, palette='viridis')\n",
        "plt.title('Receita por produto', fontsize=16)\n",
        "plt.xlabel('cod_material', fontsize=12)\n",
        "plt.ylabel('Receita', fontsize=12)\n",
        "sns.despine()\n",
        "plt.ylim(0, 4000)\n",
        "plt.show()"
      ],
      "metadata": {
        "id": "raW9Cnrs-uuk"
      },
      "execution_count": null,
      "outputs": []
    },
    {
      "cell_type": "markdown",
      "source": [
        "Aqui temos os mesmos três produtos observados na base de reviews, porém, com shares invertidos, o que pode indicar que diferentes materiais tem maior ou menor propensão a serem avaliados.\n",
        "\n",
        "Podemos notar que o mesmo produto pode possuir valores de receita associada bastante variados!!\n",
        "\n",
        "Novamente, vemos também observamos erros de atribuição de cod_material."
      ],
      "metadata": {
        "id": "WKt7TEkF5kel"
      }
    },
    {
      "cell_type": "markdown",
      "source": [
        "### Receita"
      ],
      "metadata": {
        "id": "pFuUz6Gx7nKm"
      }
    },
    {
      "cell_type": "code",
      "source": [
        "plt.figure(figsize=(12, 4))\n",
        "sns.histplot(df_sales['VLR_RECEITA_CAPTADA'], bins=15)\n",
        "plt.title('Distribution de Receita', fontsize=16)\n",
        "plt.xlabel('Receita', fontsize=12)\n",
        "plt.ylabel('Frequencia', fontsize=12)\n",
        "sns.despine()\n",
        "plt.show()"
      ],
      "metadata": {
        "id": "QRrblgHO7pu3"
      },
      "execution_count": null,
      "outputs": []
    },
    {
      "cell_type": "code",
      "source": [
        "plt.figure(figsize=(12, 4))\n",
        "sns.boxplot(x='DES_CANAL_VENDA_FINAL', y='VLR_RECEITA_CAPTADA', data=df_sales, palette='viridis')\n",
        "plt.title('Receita por canal', fontsize=16)\n",
        "plt.xlabel('Canal', fontsize=12)\n",
        "plt.ylabel('Receita', fontsize=12)\n",
        "sns.despine()\n",
        "plt.ylim(0, 4000)\n",
        "plt.show()"
      ],
      "metadata": {
        "id": "FbOM-uQt8Jd-"
      },
      "execution_count": null,
      "outputs": []
    },
    {
      "cell_type": "markdown",
      "source": [
        "75% das vendas tem valor de até 1000 reais.\n",
        "\n",
        "App e Site tem distribuições de receita muito parecidas.\n",
        "\n",
        "Mktp In tem uma tendência central um pouco mais elevada.\n",
        "\n",
        "Mkt Out possui distribuição bastante distinta, com valores de receita mais elevados."
      ],
      "metadata": {
        "id": "clNa442j8-UG"
      }
    },
    {
      "cell_type": "markdown",
      "source": [
        "### Duplicidades"
      ],
      "metadata": {
        "id": "alA6Ao1h_hR-"
      }
    },
    {
      "cell_type": "code",
      "source": [
        "df_sales[df_sales.duplicated(subset = ['COD_PEDIDO'], keep=False)]"
      ],
      "metadata": {
        "id": "lfKA-MHT_jNT"
      },
      "execution_count": null,
      "outputs": []
    },
    {
      "cell_type": "code",
      "source": [
        "df_sales[df_sales.duplicated(subset = ['COD_PEDIDO', 'COD_MATERIAL'], keep=False)]"
      ],
      "metadata": {
        "id": "7mliY_51dabA"
      },
      "execution_count": null,
      "outputs": []
    },
    {
      "cell_type": "markdown",
      "source": [
        "No dataset de vendas temos duplicidades a nível de cod_pedido e material, nesse caso optaremos por agrupar a nível de pedido e SKU, somando a receita captada."
      ],
      "metadata": {
        "id": "j24FPfs7dpKm"
      }
    },
    {
      "cell_type": "markdown",
      "source": [
        "### Valores faltantes"
      ],
      "metadata": {
        "id": "QEVuE-PvAS8J"
      }
    },
    {
      "cell_type": "code",
      "source": [
        "df_sales.isna().sum()"
      ],
      "metadata": {
        "id": "sYiki0_zAVCx"
      },
      "execution_count": null,
      "outputs": []
    },
    {
      "cell_type": "markdown",
      "source": [
        "# Pré-processamento e Engenharia de recursos"
      ],
      "metadata": {
        "id": "-c3RJi4qAkMp"
      }
    },
    {
      "cell_type": "markdown",
      "source": [
        "## Duplicidade"
      ],
      "metadata": {
        "id": "fTS5JNV-ez2o"
      }
    },
    {
      "cell_type": "code",
      "source": [
        "rows_to_drop = df_reviews.drop(columns = ['DT_HR_CRIACAO']).duplicated(keep=False)\n",
        "df_reviews = df_reviews[~rows_to_drop]\n",
        "df_reviews"
      ],
      "metadata": {
        "id": "NClDwt2Fe8wV"
      },
      "execution_count": null,
      "outputs": []
    },
    {
      "cell_type": "code",
      "source": [
        "df_sales = df_sales.groupby(['COD_PEDIDO', 'COD_MATERIAL', 'DES_CANAL_VENDA_FINAL']).agg({'VLR_RECEITA_CAPTADA': 'sum', 'DT_VENDA': 'min'}).reset_index()\n",
        "df_sales"
      ],
      "metadata": {
        "id": "bVRVB_V6l7WT"
      },
      "execution_count": null,
      "outputs": []
    },
    {
      "cell_type": "markdown",
      "source": [
        "## Cruzamento de bases"
      ],
      "metadata": {
        "id": "cX2ST29Fg4v_"
      }
    },
    {
      "cell_type": "code",
      "source": [
        "df_reviews_merged = pd.merge(df_reviews, df_sales[['COD_PEDIDO', 'COD_MATERIAL', 'DES_CANAL_VENDA_FINAL', 'VLR_RECEITA_CAPTADA', 'DT_VENDA']], how = 'left', left_on = ['COD_PEDIDO', 'COD_PRODUTO'], right_on = ['COD_PEDIDO', 'COD_MATERIAL']).drop(columns = ['COD_MATERIAL'])\n",
        "df_reviews_merged.sample(5)"
      ],
      "metadata": {
        "id": "-BsXYw2Bg7Ri"
      },
      "execution_count": null,
      "outputs": []
    },
    {
      "cell_type": "code",
      "source": [
        "df_reviews_merged.isna().mean()"
      ],
      "metadata": {
        "id": "tDp71AODl9zG"
      },
      "execution_count": null,
      "outputs": []
    },
    {
      "cell_type": "markdown",
      "source": [
        "Como somente 13% dos reviews tem correspondência na base de vendas, a partir desse ponto seguiremos a análise desconsiderando dados cruzados.\n",
        "\n",
        "Trazer análises a partir desses dados agregaria viés aos nossos resultados, já que provavelmente existe um motivo sistemático para que certos comentários não tenham correspondência.\n"
      ],
      "metadata": {
        "id": "yeq-l2e_mmIJ"
      }
    },
    {
      "cell_type": "markdown",
      "source": [
        "## Criação de recursos - Região"
      ],
      "metadata": {
        "id": "5o2AggW1nxnw"
      }
    },
    {
      "cell_type": "code",
      "source": [
        "# Define the mapping from state to region\n",
        "region_map = {\n",
        "    'AC': 'Norte', 'AP': 'Norte', 'AM': 'Norte', 'PA': 'Norte', 'RO': 'Norte', 'RR': 'Norte', 'TO': 'Norte',\n",
        "    'AL': 'Nordeste', 'BA': 'Nordeste', 'CE': 'Nordeste', 'MA': 'Nordeste', 'PB': 'Nordeste', 'PE': 'Nordeste', 'PI': 'Nordeste', 'RN': 'Nordeste', 'SE': 'Nordeste',\n",
        "    'DF': 'Centro-Oeste', 'GO': 'Centro-Oeste', 'MT': 'Centro-Oeste', 'MS': 'Centro-Oeste',\n",
        "    'ES': 'Sudeste', 'MG': 'Sudeste', 'RJ': 'Sudeste', 'SP': 'Sudeste',\n",
        "    'PR': 'Sul', 'RS': 'Sul', 'SC': 'Sul'\n",
        "}\n",
        "\n",
        "# Create the new 'REGIAO_AVALIADOR' column\n",
        "df_reviews['REGIAO_AVALIADOR'] = df_reviews['ESTADO_AVALIADOR'].map(region_map)\n",
        "\n",
        "# Display the first few rows with the new column\n",
        "df_reviews[['ESTADO_AVALIADOR', 'REGIAO_AVALIADOR']].sample(5)"
      ],
      "metadata": {
        "id": "v1GpGvb3n7aR"
      },
      "execution_count": null,
      "outputs": []
    },
    {
      "cell_type": "code",
      "source": [
        "# Group by region and count distinct reviews\n",
        "reviews_by_region = df_reviews.groupby('REGIAO_AVALIADOR')['COD_AVALIACAO'].nunique().sort_values(ascending=False)\n",
        "\n",
        "# Create the plot\n",
        "plt.figure(figsize=(10, 4))\n",
        "ax = sns.barplot(x=reviews_by_region.index, y=reviews_by_region.values, palette='viridis')\n",
        "\n",
        "# Add titles and labels\n",
        "plt.title('Distinct Reviews per Region', fontsize=16)\n",
        "plt.xlabel('Region', fontsize=12)\n",
        "plt.ylabel('Number of Distinct Reviews', fontsize=12)\n",
        "plt.xticks(rotation=0)\n",
        "\n",
        "# Clean up the plot\n",
        "sns.despine()\n",
        "plt.tight_layout()\n",
        "plt.show()"
      ],
      "metadata": {
        "id": "t1YEE7cdobX-"
      },
      "execution_count": null,
      "outputs": []
    },
    {
      "cell_type": "markdown",
      "source": [
        "# Modelagem\n",
        "\n",
        "Nesta seção, realizaremos a análise de sentimentos dos dados. Para isso, utilizaremos a função pipeline da biblioteca **Hugging Face**, uma ferramenta de alto nível que simplifica todo o processo de modelagem.\n",
        "\n",
        "O modelo escolhido é o **bertweet-pt-sentiment**, que foi treinado especificamente com um vocabulário em português e é otimizado para a tarefa de análise de sentimentos."
      ],
      "metadata": {
        "id": "Pn10YBdpAmoq"
      }
    },
    {
      "cell_type": "code",
      "source": [
        "print(\"Carregando o modelo pré-treinado 'pysentimiento/bertweet-pt-sentiment'...\")\n",
        "try:\n",
        "    sentiment_pipeline = pipeline(\n",
        "        \"sentiment-analysis\",\n",
        "        model=\"pysentimiento/bertweet-pt-sentiment\",\n",
        "        device = 0\n",
        "    )\n",
        "    print(\"✅ Modelo carregado com sucesso!\")\n",
        "except Exception as e:\n",
        "    print(f\"Ocorreu um erro ao carregar o modelo: {e}\")"
      ],
      "metadata": {
        "id": "pP4a4KwxcSeh"
      },
      "execution_count": null,
      "outputs": []
    },
    {
      "cell_type": "code",
      "source": [
        "df_reviews = pd.read_csv('reviews_classificados.csv')\n",
        "df_reviews['DT_HR_CRIACAO'] = pd.to_datetime(df_reviews['DT_HR_CRIACAO'], format='mixed')\n",
        "df_reviews['COD_PEDIDO'] = df_reviews['COD_PEDIDO'].astype('Int64')\n",
        "\n",
        "'''reviews = df_reviews['MSG_AVALIACAO'].tolist()\n",
        "\n",
        "print(f\"\\nIniciando a classificação de {len(reviews)} textos em lote...\")\n",
        "start_time = time.time()\n",
        "classification_results = sentiment_pipeline(reviews, truncation=True, batch_size=8)\n",
        "end_time = time.time()\n",
        "print(\"✅ Classificação em lote concluída!\")\n",
        "\n",
        "elapsed_time = end_time - start_time\n",
        "print(f\"Tempo de execução: {elapsed_time:.2f} segundos\")\n",
        "\n",
        "labels = [r['label'].capitalize() for r in classification_results]\n",
        "df_reviews['labels'] = labels'''\n",
        "\n",
        "# Tempo de execução: 716.51 segundos -- Sem GPU\n"
      ],
      "metadata": {
        "id": "9rrion7pde2u"
      },
      "execution_count": null,
      "outputs": []
    },
    {
      "cell_type": "code",
      "source": [
        "df_reviews.to_csv('reviews_classificados.csv', index = False)"
      ],
      "metadata": {
        "id": "R11w_sr81ane"
      },
      "execution_count": null,
      "outputs": []
    },
    {
      "cell_type": "markdown",
      "source": [
        "## Fluxo em produção"
      ],
      "metadata": {
        "id": "Cgg_0Yn_1uHW"
      }
    },
    {
      "cell_type": "markdown",
      "source": [
        "## Avaliação do modelo"
      ],
      "metadata": {
        "id": "MwAk2xZW1nZ9"
      }
    },
    {
      "cell_type": "markdown",
      "source": [
        "# Insights"
      ],
      "metadata": {
        "id": "r85kZPt-AvqO"
      }
    },
    {
      "cell_type": "markdown",
      "metadata": {
        "id": "459e82d9"
      },
      "source": [
        "# Análise de Sentimento\n"
      ]
    },
    {
      "cell_type": "code",
      "source": [
        "df_reviews['labels'].value_counts(normalize = True)"
      ],
      "metadata": {
        "id": "w51BJo7jgL6X"
      },
      "execution_count": null,
      "outputs": []
    },
    {
      "cell_type": "code",
      "source": [
        "# Filter reviews by sentiment\n",
        "positive_reviews = df_reviews[df_reviews['labels'] == 'Pos']['MSG_AVALIACAO']\n",
        "negative_reviews = df_reviews[df_reviews['labels'] == 'Neg']['MSG_AVALIACAO']\n",
        "neutral_reviews = df_reviews[df_reviews['labels'] == 'Neu']['MSG_AVALIACAO']\n",
        "\n",
        "# Combine reviews into single strings\n",
        "positive_text = \" \".join(review for review in positive_reviews)\n",
        "negative_text = \" \".join(review for review in negative_reviews)\n",
        "neutral_text = \" \".join(review for review in neutral_reviews)\n",
        "\n",
        "# Preprocess the text for each sentiment\n",
        "positive_text = preprocess_text(positive_text)\n",
        "negative_text = preprocess_text(negative_text)\n",
        "neutral_text = preprocess_text(neutral_text)\n",
        "\n",
        "# Generate word clouds\n",
        "wordcloud_pos = WordCloud(width=800, height=400, background_color='white').generate(positive_text)\n",
        "wordcloud_neg = WordCloud(width=800, height=400, background_color='white').generate(negative_text)\n",
        "wordcloud_neu = WordCloud(width=800, height=400, background_color='white').generate(neutral_text)\n",
        "\n",
        "# Display the word clouds\n",
        "plt.figure(figsize=(18, 6))\n",
        "\n",
        "plt.subplot(1, 3, 1)\n",
        "plt.imshow(wordcloud_pos, interpolation='bilinear')\n",
        "plt.title('Sentimento Positivo', fontsize=16)\n",
        "plt.axis(\"off\")\n",
        "\n",
        "plt.subplot(1, 3, 2)\n",
        "plt.imshow(wordcloud_neg, interpolation='bilinear')\n",
        "plt.title('Sentimento Negativo', fontsize=16)\n",
        "plt.axis(\"off\")\n",
        "\n",
        "plt.subplot(1, 3, 3)\n",
        "plt.imshow(wordcloud_neu, interpolation='bilinear')\n",
        "plt.title('Sentimento Neutro', fontsize=16)\n",
        "plt.axis(\"off\")\n",
        "\n",
        "plt.tight_layout()\n",
        "plt.show()"
      ],
      "metadata": {
        "id": "ktGd5-jiGBo3"
      },
      "execution_count": null,
      "outputs": []
    },
    {
      "cell_type": "markdown",
      "metadata": {
        "id": "308fe0fd"
      },
      "source": [
        "## Sentimento ao longo do tempo"
      ]
    },
    {
      "cell_type": "code",
      "source": [
        "df_reviews.groupby(['month'])['labels'].value_counts(normalize = True)\n"
      ],
      "metadata": {
        "id": "CULDCaBHjd00"
      },
      "execution_count": null,
      "outputs": []
    },
    {
      "cell_type": "code",
      "metadata": {
        "id": "4123b57a"
      },
      "source": [
        "# Group by month and sentiment, then count occurrences\n",
        "sentiment_over_time = df_reviews.groupby(pd.Grouper(key='DT_HR_CRIACAO', freq='W'))['labels'].value_counts(normalize = True).reset_index()\n",
        "\n",
        "# Plot the sentiment trends over time\n",
        "plt.figure(figsize=(12, 3))\n",
        "sns.lineplot(data = sentiment_over_time, x = 'DT_HR_CRIACAO', y = 'proportion', hue = 'labels')\n",
        "\n",
        "# Add titles and labels\n",
        "plt.title('Evolução do Sentimento ao Longo do Tempo', fontsize=16)\n",
        "plt.xlabel('Semana', fontsize=12)\n",
        "plt.ylabel('Proporção de Reviews', fontsize=12)\n",
        "plt.xticks(rotation=0)\n",
        "plt.legend(title='Sentimento')\n",
        "sns.despine()\n",
        "plt.tight_layout()\n",
        "plt.show()"
      ],
      "execution_count": null,
      "outputs": []
    },
    {
      "cell_type": "markdown",
      "metadata": {
        "id": "1ee780f5"
      },
      "source": [
        "## Sentimento por produto"
      ]
    },
    {
      "cell_type": "code",
      "metadata": {
        "id": "4ee5b387"
      },
      "source": [
        "# Group by product and sentiment, then count occurrences\n",
        "sentiment_by_product = df_reviews.groupby(['COD_PRODUTO', 'labels']).size().unstack(fill_value=0)\n",
        "\n",
        "# Normalize to get percentages\n",
        "sentiment_by_product_percentage = sentiment_by_product.div(sentiment_by_product.sum(axis=1), axis=0)\n",
        "\n",
        "# Create a 100% stacked bar chart\n",
        "ax = sentiment_by_product_percentage.plot(kind='bar', stacked=True, figsize=(8, 4))\n",
        "\n",
        "# Add titles and labels\n",
        "plt.title('Distribuição de Sentimento por Produto', fontsize=16)\n",
        "plt.xlabel('Código do Produto', fontsize=12)\n",
        "plt.ylabel('Proporção de Reviews', fontsize=12)\n",
        "plt.xticks(rotation=0)\n",
        "plt.legend(title='Sentimento')\n",
        "\n",
        "# Format y-axis as percentage\n",
        "ax.yaxis.set_major_formatter(plt.FuncFormatter(lambda y, _: f'{y:.0%}'))\n",
        "\n",
        "# Clean up the plot\n",
        "sns.despine()\n",
        "plt.tight_layout()\n",
        "plt.show()"
      ],
      "execution_count": null,
      "outputs": []
    },
    {
      "cell_type": "code",
      "source": [
        "# Create a contingency table\n",
        "contingency_table = pd.crosstab(df_reviews['COD_PRODUTO'], df_reviews['labels'])\n",
        "\n",
        "# Perform the chi-square test\n",
        "chi2, p, dof, expected = chi2_contingency(contingency_table)\n",
        "\n",
        "# Print the results\n",
        "print(\"Chi-Square Test for COD_PRODUTO vs labels\")\n",
        "print(f\"Chi-Square Statistic: {chi2}\")\n",
        "print(f\"P-value: {p}\")\n",
        "print(f\"Degrees of Freedom: {dof}\")\n",
        "\n",
        "# Interpret the results\n",
        "alpha = 0.05\n",
        "if p < alpha:\n",
        "    print(\"\\nConclusion: There is a statistically significant association between product and sentiment (p < 0.05).\")\n",
        "else:\n",
        "    print(\"\\nConclusion: There is no statistically significant association between product and sentiment (p >= 0.05).\")"
      ],
      "metadata": {
        "id": "BK7KUGdvrWG-"
      },
      "execution_count": null,
      "outputs": []
    },
    {
      "cell_type": "markdown",
      "source": [
        "### Ao longo do tempo"
      ],
      "metadata": {
        "id": "PNpQaMSErQVW"
      }
    },
    {
      "cell_type": "code",
      "source": [
        "df_reviews.groupby(['COD_PRODUTO', 'month'])['labels'].value_counts(normalize = True)"
      ],
      "metadata": {
        "id": "KtvsnVLKh_V3"
      },
      "execution_count": null,
      "outputs": []
    },
    {
      "cell_type": "code",
      "source": [
        "for produto in sorted(df_reviews['COD_PRODUTO'].unique()):\n",
        "\n",
        "  product_reviews = df_reviews[df_reviews['COD_PRODUTO'] == produto]\n",
        "\n",
        "  g = product_reviews.groupby(pd.Grouper(key='DT_HR_CRIACAO', freq='W'))['labels'].value_counts(normalize = True).reset_index()\n",
        "\n",
        "  plt.figure(figsize=(12, 3))\n",
        "  plt.title(f'Sentimento ao longo do tempo, produto {produto}', fontsize=16)\n",
        "  plt.xlabel('Semana', fontsize=12)\n",
        "  plt.ylabel('Proporção de sentimento', fontsize=12)\n",
        "  sns.lineplot(data=g, x='DT_HR_CRIACAO', y='proportion', hue='labels', palette='viridis')\n",
        "\n",
        "  sns.despine()\n",
        "  plt.tight_layout()\n",
        "  plt.show()"
      ],
      "metadata": {
        "id": "zKKfC8yv6E-6"
      },
      "execution_count": null,
      "outputs": []
    },
    {
      "cell_type": "markdown",
      "source": [
        "### Deepdive comentários negativos 333"
      ],
      "metadata": {
        "id": "p3CrGKMhrcHR"
      }
    },
    {
      "cell_type": "code",
      "source": [
        "df_reviews[(df_reviews['COD_PRODUTO'] == 333) & (df_reviews['month'] == '2025-02') & (df_reviews['labels'] == 'Neg')]['MSG_AVALIACAO'].sample(10)"
      ],
      "metadata": {
        "id": "98vq_t_agdwT"
      },
      "execution_count": null,
      "outputs": []
    },
    {
      "cell_type": "code",
      "source": [
        "df_reviews[(df_reviews['COD_PRODUTO'] == 333) & (df_reviews['month'] == '2025-04') & (df_reviews['labels'] == 'Neg')]['MSG_AVALIACAO'].sample(10)"
      ],
      "metadata": {
        "id": "8MKNXC-xhwTH"
      },
      "execution_count": null,
      "outputs": []
    },
    {
      "cell_type": "code",
      "source": [
        "# Filter reviews by sentiment\n",
        "neg_reviews_feb = df_reviews[(df_reviews['COD_PRODUTO'] == 333) & (df_reviews['month'] == '2025-02') & (df_reviews['labels'] == 'Neg')]['MSG_AVALIACAO']\n",
        "neg_reviews_mar = df_reviews[(df_reviews['COD_PRODUTO'] == 333) & (df_reviews['month'] == '2025-03') & (df_reviews['labels'] == 'Neg')]['MSG_AVALIACAO']\n",
        "neg_reviews_apr = df_reviews[(df_reviews['COD_PRODUTO'] == 333) & (df_reviews['month'] == '2025-03') & (df_reviews['labels'] == 'Neg')]['MSG_AVALIACAO']\n",
        "\n",
        "# Combine reviews into single strings\n",
        "\n",
        "feb_text = \" \".join(review for review in neg_reviews_feb)\n",
        "mar_text = \" \".join(review for review in neg_reviews_mar)\n",
        "apr_text = \" \".join(review for review in neg_reviews_apr)\n",
        "\n",
        "# Preprocess the text for each sentiment\n",
        "feb_text = preprocess_text(feb_text)\n",
        "mar_text = preprocess_text(mar_text)\n",
        "apr_text = preprocess_text(apr_text)\n",
        "\n",
        "# Generate word clouds\n",
        "wordcloud_feb = WordCloud(width=800, height=400, background_color='white').generate(feb_text)\n",
        "wordcloud_mar = WordCloud(width=800, height=400, background_color='white').generate(mar_text)\n",
        "wordcloud_apr = WordCloud(width=800, height=400, background_color='white').generate(apr_text)\n",
        "\n",
        "# Display the word clouds\n",
        "plt.figure(figsize=(18, 6))\n",
        "\n",
        "plt.subplot(1, 3, 1)\n",
        "plt.imshow(wordcloud_feb, interpolation='bilinear')\n",
        "plt.title('Fevereiro - Sentimento Negativo', fontsize=16)\n",
        "plt.axis(\"off\")\n",
        "\n",
        "plt.subplot(1, 3, 2)\n",
        "plt.imshow(wordcloud_mar, interpolation='bilinear')\n",
        "plt.title('Março - Sentimento Negativo', fontsize=16)\n",
        "plt.axis(\"off\")\n",
        "\n",
        "plt.subplot(1, 3, 3)\n",
        "plt.imshow(wordcloud_apr, interpolation='bilinear')\n",
        "plt.title('Abril - Sentimento Neutro', fontsize=16)\n",
        "plt.axis(\"off\")\n",
        "\n",
        "plt.tight_layout()\n",
        "plt.show()"
      ],
      "metadata": {
        "id": "_CeOgnU12mHh"
      },
      "execution_count": null,
      "outputs": []
    },
    {
      "cell_type": "markdown",
      "source": [
        "### Deepdive comentários negativos 222"
      ],
      "metadata": {
        "id": "F_8vPGVd3o2D"
      }
    },
    {
      "cell_type": "code",
      "source": [
        "df_reviews[(df_reviews['COD_PRODUTO'] == 222) & (df_reviews['month'] == '2025-04') & (df_reviews['labels'] == 'Neg')]['MSG_AVALIACAO'].sample(10)"
      ],
      "metadata": {
        "id": "qd0Trs1L3yi3"
      },
      "execution_count": null,
      "outputs": []
    },
    {
      "cell_type": "code",
      "source": [
        "# Filter reviews by sentiment\n",
        "neg_reviews_feb = df_reviews[(df_reviews['COD_PRODUTO'] == 222) & (df_reviews['month'] == '2025-02') & (df_reviews['labels'] == 'Neg')]['MSG_AVALIACAO']\n",
        "neg_reviews_mar = df_reviews[(df_reviews['COD_PRODUTO'] == 222) & (df_reviews['month'] == '2025-03') & (df_reviews['labels'] == 'Neg')]['MSG_AVALIACAO']\n",
        "neg_reviews_apr = df_reviews[(df_reviews['COD_PRODUTO'] == 222) & (df_reviews['month'] == '2025-03') & (df_reviews['labels'] == 'Neg')]['MSG_AVALIACAO']\n",
        "\n",
        "# Combine reviews into single strings\n",
        "\n",
        "feb_text = \" \".join(review for review in neg_reviews_feb)\n",
        "mar_text = \" \".join(review for review in neg_reviews_mar)\n",
        "apr_text = \" \".join(review for review in neg_reviews_apr)\n",
        "\n",
        "# Preprocess the text for each sentiment\n",
        "feb_text = preprocess_text(feb_text)\n",
        "mar_text = preprocess_text(mar_text)\n",
        "apr_text = preprocess_text(apr_text)\n",
        "\n",
        "# Generate word clouds\n",
        "wordcloud_feb = WordCloud(width=800, height=400, background_color='white').generate(feb_text)\n",
        "wordcloud_mar = WordCloud(width=800, height=400, background_color='white').generate(mar_text)\n",
        "wordcloud_apr = WordCloud(width=800, height=400, background_color='white').generate(apr_text)\n",
        "\n",
        "# Display the word clouds\n",
        "plt.figure(figsize=(18, 6))\n",
        "\n",
        "plt.subplot(1, 3, 1)\n",
        "plt.imshow(wordcloud_feb, interpolation='bilinear')\n",
        "plt.title('Fevereiro - Sentimento Negativo', fontsize=16)\n",
        "plt.axis(\"off\")\n",
        "\n",
        "plt.subplot(1, 3, 2)\n",
        "plt.imshow(wordcloud_mar, interpolation='bilinear')\n",
        "plt.title('Março - Sentimento Negativo', fontsize=16)\n",
        "plt.axis(\"off\")\n",
        "\n",
        "plt.subplot(1, 3, 3)\n",
        "plt.imshow(wordcloud_apr, interpolation='bilinear')\n",
        "plt.title('Abril - Sentimento Neutro', fontsize=16)\n",
        "plt.axis(\"off\")\n",
        "\n",
        "plt.tight_layout()\n",
        "plt.show()"
      ],
      "metadata": {
        "id": "dIxUH99U35pM"
      },
      "execution_count": null,
      "outputs": []
    },
    {
      "cell_type": "markdown",
      "source": [
        "### Deepdive comentários negativos 111"
      ],
      "metadata": {
        "id": "X3nXhwWKELRf"
      }
    },
    {
      "cell_type": "code",
      "source": [
        "df_reviews[(df_reviews['COD_PRODUTO'] == 111) & (df_reviews['labels'] == 'Neg')]['MSG_AVALIACAO']"
      ],
      "metadata": {
        "id": "hUvGkdsRENaz"
      },
      "execution_count": null,
      "outputs": []
    },
    {
      "cell_type": "code",
      "source": [
        "# Filter reviews by sentiment\n",
        "neg_reviews = df_reviews[(df_reviews['COD_PRODUTO'] == 222) & (df_reviews['labels'] == 'Neg')]['MSG_AVALIACAO']\n",
        "\n",
        "\n",
        "# Combine reviews into single strings\n",
        "text = \" \".join(review for review in neg_reviews)\n",
        "\n",
        "# Preprocess the text for each sentiment\n",
        "text = preprocess_text(text)\n",
        "\n",
        "# Generate word clouds\n",
        "wordcloud = WordCloud(width=800, height=400, background_color='white').generate(text)\n",
        "\n",
        "# Display the word clouds\n",
        "plt.figure(figsize=(18, 6))\n",
        "\n",
        "plt.subplot(1, 3, 1)\n",
        "plt.imshow(wordcloud, interpolation='bilinear')\n",
        "plt.title('Sentimento Negativo', fontsize=16)\n",
        "plt.axis(\"off\")\n",
        "\n",
        "plt.tight_layout()\n",
        "plt.show()"
      ],
      "metadata": {
        "id": "_QBG2BQgFHqo"
      },
      "execution_count": null,
      "outputs": []
    },
    {
      "cell_type": "markdown",
      "metadata": {
        "id": "1ada71ea"
      },
      "source": [
        "## Sentiment by region\n"
      ]
    },
    {
      "cell_type": "code",
      "metadata": {
        "id": "65ab8ae0"
      },
      "source": [
        "# Group by region and sentiment, then count occurrences\n",
        "sentiment_by_region = df_reviews.groupby(['REGIAO_AVALIADOR', 'labels']).size().unstack(fill_value=0)\n",
        "\n",
        "# Normalize to get percentages\n",
        "sentiment_by_region_percentage = sentiment_by_region.div(sentiment_by_region.sum(axis=1), axis=0)\n",
        "\n",
        "# Create a 100% stacked bar chart\n",
        "ax = sentiment_by_region_percentage.plot(kind='bar', stacked=True, figsize=(12, 6))\n",
        "\n",
        "# Add titles and labels\n",
        "plt.title('Distribuição de Sentimento por Região (100% Empilhado)', fontsize=16)\n",
        "plt.xlabel('Região', fontsize=12)\n",
        "plt.ylabel('Proporção de Reviews', fontsize=12)\n",
        "plt.xticks(rotation=45)\n",
        "plt.legend(title='Sentimento')\n",
        "\n",
        "# Format y-axis as percentage\n",
        "ax.yaxis.set_major_formatter(plt.FuncFormatter(lambda y, _: f'{y:.0%}'))\n",
        "\n",
        "# Clean up the plot\n",
        "sns.despine()\n",
        "plt.tight_layout()\n",
        "plt.show()"
      ],
      "execution_count": null,
      "outputs": []
    },
    {
      "cell_type": "code",
      "source": [
        "# Create a contingency table\n",
        "contingency_table = pd.crosstab(df_reviews['REGIAO_AVALIADOR'], df_reviews['labels'])\n",
        "\n",
        "# Perform the chi-square test\n",
        "chi2, p, dof, expected = chi2_contingency(contingency_table)\n",
        "\n",
        "# Print the results\n",
        "print(\"Chi-Square Test for REGIAO_AVALIADOR vs labels\")\n",
        "print(f\"Chi-Square Statistic: {chi2}\")\n",
        "print(f\"P-value: {p}\")\n",
        "print(f\"Degrees of Freedom: {dof}\")\n",
        "\n",
        "# Interpret the results\n",
        "alpha = 0.05\n",
        "if p < alpha:\n",
        "    print(\"\\nConclusion: There is a statistically significant association between region and sentiment (p < 0.05).\")\n",
        "else:\n",
        "    print(\"\\nConclusion: There is no statistically significant association between region and sentiment (p >= 0.05).\")"
      ],
      "metadata": {
        "id": "a9LNzqn04xr7"
      },
      "execution_count": null,
      "outputs": []
    },
    {
      "cell_type": "markdown",
      "metadata": {
        "id": "e0327e05"
      },
      "source": [
        "## Sentimento Presente vs Não-Presente\n"
      ]
    },
    {
      "cell_type": "code",
      "source": [
        "# Group by region and sentiment, then count occurrences\n",
        "sentiment_by_region = df_reviews.groupby(['FLG_PRESENTE', 'labels']).size().unstack(fill_value=0)\n",
        "\n",
        "# Normalize to get percentages\n",
        "sentiment_by_region_percentage = sentiment_by_region.div(sentiment_by_region.sum(axis=1), axis=0)\n",
        "\n",
        "# Create a 100% stacked bar chart\n",
        "ax = sentiment_by_region_percentage.plot(kind='bar', stacked=True, figsize=(8, 4))\n",
        "\n",
        "# Add titles and labels\n",
        "plt.title('Distribuição de Sentimento: Presente vs. Não-Presente', fontsize=16)\n",
        "plt.xlabel('Tipo de Compra', fontsize=12)\n",
        "plt.ylabel('Número de Reviews', fontsize=12)\n",
        "plt.legend(title='Sentimento')\n",
        "plt.xticks(ticks=[0, 1], labels=['Não-Presente', 'Presente'], rotation=0)\n",
        "\n",
        "# Format y-axis as percentage\n",
        "ax.yaxis.set_major_formatter(plt.FuncFormatter(lambda y, _: f'{y:.0%}'))\n",
        "\n",
        "# Clean up the plot\n",
        "sns.despine()\n",
        "plt.tight_layout()\n",
        "plt.show()"
      ],
      "metadata": {
        "id": "6BwzZyKo4M5Q"
      },
      "execution_count": null,
      "outputs": []
    },
    {
      "cell_type": "code",
      "source": [
        "contagem_abs = df_reviews.groupby(['COD_PRODUTO', 'FLG_PRESENTE'])['labels'].value_counts().rename('contagem_absoluta')\n",
        "\n",
        "proporcao = df_reviews.groupby(['COD_PRODUTO', 'FLG_PRESENTE'])['labels'].value_counts(normalize=True).rename('proporcao')\n",
        "\n",
        "resultado = pd.concat([contagem_abs, proporcao], axis=1)\n",
        "\n",
        "resultado"
      ],
      "metadata": {
        "id": "oIpk4aWprnHd"
      },
      "execution_count": null,
      "outputs": []
    }
  ]
}